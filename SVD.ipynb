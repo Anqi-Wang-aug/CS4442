{
  "cells": [
    {
      "cell_type": "code",
      "execution_count": null,
      "metadata": {
        "id": "bvX7FcAlHs9Z"
      },
      "outputs": [],
      "source": [
        "import torch\n",
        "import torchaudio\n",
        "import torchaudio.functional as F\n",
        "import torchaudio.transforms as T\n",
        "\n",
        "n_fft = 1024\n",
        "win_length = None\n",
        "hop_length = 512\n",
        "\n",
        "librispeech = torchaudio.datasets.LIBRISPEECH('./', download=True,)\n",
        "range = [0, 1, 2, 3, 4]\n",
        "librispeech = torch.utils.data.Subset(librispeech, range)\n",
        "\n",
        "\n",
        "#Torch Dataloader\n",
        "data_loader_librispeech = torch.utils.data.DataLoader(librispeech,\n",
        "                                          batch_size=1,\n",
        "                                          shuffle=True,\n",
        "                                          num_workers=2)"
      ]
    },
    {
      "cell_type": "code",
      "execution_count": null,
      "metadata": {
        "id": "w6vpXPKjLBPo"
      },
      "outputs": [],
      "source": [
        "import scipy.io.wavfile\n",
        "import librosa\n",
        "import numpy as np\n",
        "\n",
        "for i, data in enumerate(data_loader_librispeech):\n",
        "  waveform = data[0]\n",
        "  w = waveform.numpy()[0][0]\n",
        "  rate = data[1].numpy()[0]\n",
        "  spec = librosa.stft(w)\n",
        "  \n",
        "  u, s, v = np.linalg.svd(spec)\n",
        "\n",
        "  m = 200\n",
        " \n",
        "  re = np.matrix(u[:, :m]) *np.diag(s[:m])* np.matrix(v[:m, :])\n",
        "  re_wav = librosa.istft(re)\n",
        "\n",
        "  name_o = 'original'+str(i)+'.wav'\n",
        "  name_n = 'new'+str(i)+'.wav'\n",
        "\n",
        "  scipy.io.wavfile.write(name_o, rate, w)\n",
        "  scipy.io.wavfile.write(name_n, rate, re_wav)\n",
        " \n",
        "  "
      ]
    }
  ],
  "metadata": {
    "colab": {
      "collapsed_sections": [],
      "name": "SVD.ipynb",
      "provenance": []
    },
    "kernelspec": {
      "display_name": "Python 3",
      "name": "python3"
    },
    "language_info": {
      "name": "python"
    }
  },
  "nbformat": 4,
  "nbformat_minor": 0
}